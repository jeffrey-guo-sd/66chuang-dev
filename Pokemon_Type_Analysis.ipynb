{
  "metadata": {
    "kernelspec": {
      "language": "python",
      "display_name": "Python 3",
      "name": "python3"
    },
    "language_info": {
      "name": "python",
      "version": "3.11.11",
      "mimetype": "text/x-python",
      "codemirror_mode": {
        "name": "ipython",
        "version": 3
      },
      "pygments_lexer": "ipython3",
      "nbconvert_exporter": "python",
      "file_extension": ".py"
    },
    "kaggle": {
      "accelerator": "none",
      "dataSources": [
        {
          "sourceId": 12195054,
          "sourceType": "datasetVersion",
          "datasetId": 7681706
        }
      ],
      "dockerImageVersionId": 31040,
      "isInternetEnabled": false,
      "language": "python",
      "sourceType": "notebook",
      "isGpuEnabled": false
    },
    "colab": {
      "name": "Pokemon Type Analysis",
      "provenance": [],
      "include_colab_link": true
    }
  },
  "nbformat_minor": 0,
  "nbformat": 4,
  "cells": [
    {
      "cell_type": "markdown",
      "metadata": {
        "id": "view-in-github",
        "colab_type": "text"
      },
      "source": [
        "<a href=\"https://colab.research.google.com/github/jeffrey-guo-sd/66chuang-dev/blob/master/Pokemon_Type_Analysis.ipynb\" target=\"_parent\"><img src=\"https://colab.research.google.com/assets/colab-badge.svg\" alt=\"Open In Colab\"/></a>"
      ]
    },
    {
      "source": [
        "# IMPORTANT: RUN THIS CELL IN ORDER TO IMPORT YOUR KAGGLE DATA SOURCES,\n",
        "# THEN FEEL FREE TO DELETE THIS CELL.\n",
        "# NOTE: THIS NOTEBOOK ENVIRONMENT DIFFERS FROM KAGGLE'S PYTHON\n",
        "# ENVIRONMENT SO THERE MAY BE MISSING LIBRARIES USED BY YOUR\n",
        "# NOTEBOOK.\n",
        "import kagglehub\n",
        "tanishksharma9905_pokemon_data_csv_path = kagglehub.dataset_download('tanishksharma9905/pokemon-data-csv')\n",
        "\n",
        "print('Data source import complete.')\n"
      ],
      "metadata": {
        "id": "xb84q8GbzUnP",
        "outputId": "16a9ae26-1de5-4790-ba37-71b952ca4e8b",
        "colab": {
          "base_uri": "https://localhost:8080/"
        }
      },
      "cell_type": "code",
      "outputs": [
        {
          "output_type": "stream",
          "name": "stdout",
          "text": [
            "Data source import complete.\n"
          ]
        }
      ],
      "execution_count": 8
    },
    {
      "cell_type": "code",
      "source": [
        "# This Python 3 environment comes with many helpful analytics libraries installed\n",
        "# It is defined by the kaggle/python Docker image: https://github.com/kaggle/docker-python\n",
        "# For example, here's several helpful packages to load\n",
        "\n",
        "import numpy as np # linear algebra\n",
        "import pandas as pd # data processing, CSV file I/O (e.g. pd.read_csv)\n",
        "import matplotlib.pyplot as plt # Creating graphs for statistical analysis\n",
        "import seaborn as sns\n",
        "\n",
        "# Input data files are available in the read-only \"../input/\" directory\n",
        "# For example, running this (by clicking run or pressing Shift+Enter) will list all files under the input directory\n",
        "\n",
        "import os\n",
        "for dirname, _, filenames in os.walk('/kaggle/input'):\n",
        "    for filename in filenames:\n",
        "        print(os.path.join(dirname, filename))\n",
        "\n",
        "# You can write up to 20GB to the current directory (/kaggle/working/) that gets preserved as output when you create a version using \"Save & Run All\"\n",
        "# You can also write temporary files to /kaggle/temp/, but they won't be saved outside of the current session"
      ],
      "metadata": {
        "_uuid": "8f2839f25d086af736a60e9eeb907d3b93b6e0e5",
        "_cell_guid": "b1076dfc-b9ad-4769-8c92-a6c4dae69d19",
        "trusted": true,
        "execution": {
          "iopub.status.busy": "2025-06-21T13:53:15.337698Z",
          "iopub.execute_input": "2025-06-21T13:53:15.338584Z",
          "iopub.status.idle": "2025-06-21T13:53:15.349363Z",
          "shell.execute_reply.started": "2025-06-21T13:53:15.338548Z",
          "shell.execute_reply": "2025-06-21T13:53:15.348352Z"
        },
        "id": "rqn95r29zUnR",
        "outputId": "8914a3d5-c31a-423c-b07e-e51548d514ce",
        "colab": {
          "base_uri": "https://localhost:8080/"
        }
      },
      "outputs": [
        {
          "output_type": "stream",
          "name": "stdout",
          "text": [
            "/kaggle/input/pokemon-data-csv/pokemon_data.csv\n"
          ]
        }
      ],
      "execution_count": 9
    },
    {
      "cell_type": "code",
      "source": [
        "df = pd.read_csv(\"/kaggle/input/pokemon-data-csv/pokemon_data.csv\")\n",
        "\n",
        "plt.rcParams['figure.figsize'] = (12, 7)\n",
        "plt.rcParams['font.size'] = 12\n",
        "\n",
        "print(df.columns)\n",
        "df.shape"
      ],
      "metadata": {
        "trusted": true,
        "execution": {
          "iopub.status.busy": "2025-06-21T13:53:15.351188Z",
          "iopub.execute_input": "2025-06-21T13:53:15.352171Z",
          "iopub.status.idle": "2025-06-21T13:53:15.3925Z",
          "shell.execute_reply.started": "2025-06-21T13:53:15.352098Z",
          "shell.execute_reply": "2025-06-21T13:53:15.391176Z"
        },
        "id": "6zWwwg0azUnR",
        "outputId": "5ccd28a4-d3c4-4fd6-b725-3e31d6d90de7",
        "colab": {
          "base_uri": "https://localhost:8080/"
        }
      },
      "outputs": [
        {
          "output_type": "stream",
          "name": "stdout",
          "text": [
            "Index(['id', 'name', 'base_experience', 'height', 'weight', 'types',\n",
            "       'abilities', 'moves', 'stats'],\n",
            "      dtype='object')\n"
          ]
        },
        {
          "output_type": "execute_result",
          "data": {
            "text/plain": [
              "(1302, 9)"
            ]
          },
          "metadata": {},
          "execution_count": 12
        }
      ],
      "execution_count": 12
    },
    {
      "cell_type": "code",
      "source": [
        "df.head()"
      ],
      "metadata": {
        "id": "iFf1VFw92-7D",
        "outputId": "cc51719a-3da0-4f46-8d88-9de34c1392f5",
        "colab": {
          "base_uri": "https://localhost:8080/",
          "height": 206
        }
      },
      "execution_count": 11,
      "outputs": [
        {
          "output_type": "execute_result",
          "data": {
            "text/plain": [
              "   id        name  base_experience  height  weight          types  \\\n",
              "0   1   bulbasaur               64       7      69  grass, poison   \n",
              "1   2     ivysaur              142      10     130  grass, poison   \n",
              "2   3    venusaur              236      20    1000  grass, poison   \n",
              "3   4  charmander               62       6      85           fire   \n",
              "4   5  charmeleon              142      11     190           fire   \n",
              "\n",
              "               abilities                                              moves  \\\n",
              "0  overgrow, chlorophyll     razor-wind, swords-dance, cut, bind, vine-whip   \n",
              "1  overgrow, chlorophyll       swords-dance, cut, bind, vine-whip, headbutt   \n",
              "2  overgrow, chlorophyll       swords-dance, cut, bind, vine-whip, headbutt   \n",
              "3     blaze, solar-power  mega-punch, fire-punch, thunder-punch, scratch...   \n",
              "4     blaze, solar-power  mega-punch, fire-punch, thunder-punch, scratch...   \n",
              "\n",
              "                                               stats  \n",
              "0  hp=45, attack=49, defense=49, special-attack=6...  \n",
              "1  hp=60, attack=62, defense=63, special-attack=8...  \n",
              "2  hp=80, attack=82, defense=83, special-attack=1...  \n",
              "3  hp=39, attack=52, defense=43, special-attack=6...  \n",
              "4  hp=58, attack=64, defense=58, special-attack=8...  "
            ],
            "text/html": [
              "\n",
              "  <div id=\"df-8ad3fae9-6171-4f58-9300-166692393076\" class=\"colab-df-container\">\n",
              "    <div>\n",
              "<style scoped>\n",
              "    .dataframe tbody tr th:only-of-type {\n",
              "        vertical-align: middle;\n",
              "    }\n",
              "\n",
              "    .dataframe tbody tr th {\n",
              "        vertical-align: top;\n",
              "    }\n",
              "\n",
              "    .dataframe thead th {\n",
              "        text-align: right;\n",
              "    }\n",
              "</style>\n",
              "<table border=\"1\" class=\"dataframe\">\n",
              "  <thead>\n",
              "    <tr style=\"text-align: right;\">\n",
              "      <th></th>\n",
              "      <th>id</th>\n",
              "      <th>name</th>\n",
              "      <th>base_experience</th>\n",
              "      <th>height</th>\n",
              "      <th>weight</th>\n",
              "      <th>types</th>\n",
              "      <th>abilities</th>\n",
              "      <th>moves</th>\n",
              "      <th>stats</th>\n",
              "    </tr>\n",
              "  </thead>\n",
              "  <tbody>\n",
              "    <tr>\n",
              "      <th>0</th>\n",
              "      <td>1</td>\n",
              "      <td>bulbasaur</td>\n",
              "      <td>64</td>\n",
              "      <td>7</td>\n",
              "      <td>69</td>\n",
              "      <td>grass, poison</td>\n",
              "      <td>overgrow, chlorophyll</td>\n",
              "      <td>razor-wind, swords-dance, cut, bind, vine-whip</td>\n",
              "      <td>hp=45, attack=49, defense=49, special-attack=6...</td>\n",
              "    </tr>\n",
              "    <tr>\n",
              "      <th>1</th>\n",
              "      <td>2</td>\n",
              "      <td>ivysaur</td>\n",
              "      <td>142</td>\n",
              "      <td>10</td>\n",
              "      <td>130</td>\n",
              "      <td>grass, poison</td>\n",
              "      <td>overgrow, chlorophyll</td>\n",
              "      <td>swords-dance, cut, bind, vine-whip, headbutt</td>\n",
              "      <td>hp=60, attack=62, defense=63, special-attack=8...</td>\n",
              "    </tr>\n",
              "    <tr>\n",
              "      <th>2</th>\n",
              "      <td>3</td>\n",
              "      <td>venusaur</td>\n",
              "      <td>236</td>\n",
              "      <td>20</td>\n",
              "      <td>1000</td>\n",
              "      <td>grass, poison</td>\n",
              "      <td>overgrow, chlorophyll</td>\n",
              "      <td>swords-dance, cut, bind, vine-whip, headbutt</td>\n",
              "      <td>hp=80, attack=82, defense=83, special-attack=1...</td>\n",
              "    </tr>\n",
              "    <tr>\n",
              "      <th>3</th>\n",
              "      <td>4</td>\n",
              "      <td>charmander</td>\n",
              "      <td>62</td>\n",
              "      <td>6</td>\n",
              "      <td>85</td>\n",
              "      <td>fire</td>\n",
              "      <td>blaze, solar-power</td>\n",
              "      <td>mega-punch, fire-punch, thunder-punch, scratch...</td>\n",
              "      <td>hp=39, attack=52, defense=43, special-attack=6...</td>\n",
              "    </tr>\n",
              "    <tr>\n",
              "      <th>4</th>\n",
              "      <td>5</td>\n",
              "      <td>charmeleon</td>\n",
              "      <td>142</td>\n",
              "      <td>11</td>\n",
              "      <td>190</td>\n",
              "      <td>fire</td>\n",
              "      <td>blaze, solar-power</td>\n",
              "      <td>mega-punch, fire-punch, thunder-punch, scratch...</td>\n",
              "      <td>hp=58, attack=64, defense=58, special-attack=8...</td>\n",
              "    </tr>\n",
              "  </tbody>\n",
              "</table>\n",
              "</div>\n",
              "    <div class=\"colab-df-buttons\">\n",
              "\n",
              "  <div class=\"colab-df-container\">\n",
              "    <button class=\"colab-df-convert\" onclick=\"convertToInteractive('df-8ad3fae9-6171-4f58-9300-166692393076')\"\n",
              "            title=\"Convert this dataframe to an interactive table.\"\n",
              "            style=\"display:none;\">\n",
              "\n",
              "  <svg xmlns=\"http://www.w3.org/2000/svg\" height=\"24px\" viewBox=\"0 -960 960 960\">\n",
              "    <path d=\"M120-120v-720h720v720H120Zm60-500h600v-160H180v160Zm220 220h160v-160H400v160Zm0 220h160v-160H400v160ZM180-400h160v-160H180v160Zm440 0h160v-160H620v160ZM180-180h160v-160H180v160Zm440 0h160v-160H620v160Z\"/>\n",
              "  </svg>\n",
              "    </button>\n",
              "\n",
              "  <style>\n",
              "    .colab-df-container {\n",
              "      display:flex;\n",
              "      gap: 12px;\n",
              "    }\n",
              "\n",
              "    .colab-df-convert {\n",
              "      background-color: #E8F0FE;\n",
              "      border: none;\n",
              "      border-radius: 50%;\n",
              "      cursor: pointer;\n",
              "      display: none;\n",
              "      fill: #1967D2;\n",
              "      height: 32px;\n",
              "      padding: 0 0 0 0;\n",
              "      width: 32px;\n",
              "    }\n",
              "\n",
              "    .colab-df-convert:hover {\n",
              "      background-color: #E2EBFA;\n",
              "      box-shadow: 0px 1px 2px rgba(60, 64, 67, 0.3), 0px 1px 3px 1px rgba(60, 64, 67, 0.15);\n",
              "      fill: #174EA6;\n",
              "    }\n",
              "\n",
              "    .colab-df-buttons div {\n",
              "      margin-bottom: 4px;\n",
              "    }\n",
              "\n",
              "    [theme=dark] .colab-df-convert {\n",
              "      background-color: #3B4455;\n",
              "      fill: #D2E3FC;\n",
              "    }\n",
              "\n",
              "    [theme=dark] .colab-df-convert:hover {\n",
              "      background-color: #434B5C;\n",
              "      box-shadow: 0px 1px 3px 1px rgba(0, 0, 0, 0.15);\n",
              "      filter: drop-shadow(0px 1px 2px rgba(0, 0, 0, 0.3));\n",
              "      fill: #FFFFFF;\n",
              "    }\n",
              "  </style>\n",
              "\n",
              "    <script>\n",
              "      const buttonEl =\n",
              "        document.querySelector('#df-8ad3fae9-6171-4f58-9300-166692393076 button.colab-df-convert');\n",
              "      buttonEl.style.display =\n",
              "        google.colab.kernel.accessAllowed ? 'block' : 'none';\n",
              "\n",
              "      async function convertToInteractive(key) {\n",
              "        const element = document.querySelector('#df-8ad3fae9-6171-4f58-9300-166692393076');\n",
              "        const dataTable =\n",
              "          await google.colab.kernel.invokeFunction('convertToInteractive',\n",
              "                                                    [key], {});\n",
              "        if (!dataTable) return;\n",
              "\n",
              "        const docLinkHtml = 'Like what you see? Visit the ' +\n",
              "          '<a target=\"_blank\" href=https://colab.research.google.com/notebooks/data_table.ipynb>data table notebook</a>'\n",
              "          + ' to learn more about interactive tables.';\n",
              "        element.innerHTML = '';\n",
              "        dataTable['output_type'] = 'display_data';\n",
              "        await google.colab.output.renderOutput(dataTable, element);\n",
              "        const docLink = document.createElement('div');\n",
              "        docLink.innerHTML = docLinkHtml;\n",
              "        element.appendChild(docLink);\n",
              "      }\n",
              "    </script>\n",
              "  </div>\n",
              "\n",
              "\n",
              "    <div id=\"df-9a47d42a-f381-4986-a53e-53b3dc1590b2\">\n",
              "      <button class=\"colab-df-quickchart\" onclick=\"quickchart('df-9a47d42a-f381-4986-a53e-53b3dc1590b2')\"\n",
              "                title=\"Suggest charts\"\n",
              "                style=\"display:none;\">\n",
              "\n",
              "<svg xmlns=\"http://www.w3.org/2000/svg\" height=\"24px\"viewBox=\"0 0 24 24\"\n",
              "     width=\"24px\">\n",
              "    <g>\n",
              "        <path d=\"M19 3H5c-1.1 0-2 .9-2 2v14c0 1.1.9 2 2 2h14c1.1 0 2-.9 2-2V5c0-1.1-.9-2-2-2zM9 17H7v-7h2v7zm4 0h-2V7h2v10zm4 0h-2v-4h2v4z\"/>\n",
              "    </g>\n",
              "</svg>\n",
              "      </button>\n",
              "\n",
              "<style>\n",
              "  .colab-df-quickchart {\n",
              "      --bg-color: #E8F0FE;\n",
              "      --fill-color: #1967D2;\n",
              "      --hover-bg-color: #E2EBFA;\n",
              "      --hover-fill-color: #174EA6;\n",
              "      --disabled-fill-color: #AAA;\n",
              "      --disabled-bg-color: #DDD;\n",
              "  }\n",
              "\n",
              "  [theme=dark] .colab-df-quickchart {\n",
              "      --bg-color: #3B4455;\n",
              "      --fill-color: #D2E3FC;\n",
              "      --hover-bg-color: #434B5C;\n",
              "      --hover-fill-color: #FFFFFF;\n",
              "      --disabled-bg-color: #3B4455;\n",
              "      --disabled-fill-color: #666;\n",
              "  }\n",
              "\n",
              "  .colab-df-quickchart {\n",
              "    background-color: var(--bg-color);\n",
              "    border: none;\n",
              "    border-radius: 50%;\n",
              "    cursor: pointer;\n",
              "    display: none;\n",
              "    fill: var(--fill-color);\n",
              "    height: 32px;\n",
              "    padding: 0;\n",
              "    width: 32px;\n",
              "  }\n",
              "\n",
              "  .colab-df-quickchart:hover {\n",
              "    background-color: var(--hover-bg-color);\n",
              "    box-shadow: 0 1px 2px rgba(60, 64, 67, 0.3), 0 1px 3px 1px rgba(60, 64, 67, 0.15);\n",
              "    fill: var(--button-hover-fill-color);\n",
              "  }\n",
              "\n",
              "  .colab-df-quickchart-complete:disabled,\n",
              "  .colab-df-quickchart-complete:disabled:hover {\n",
              "    background-color: var(--disabled-bg-color);\n",
              "    fill: var(--disabled-fill-color);\n",
              "    box-shadow: none;\n",
              "  }\n",
              "\n",
              "  .colab-df-spinner {\n",
              "    border: 2px solid var(--fill-color);\n",
              "    border-color: transparent;\n",
              "    border-bottom-color: var(--fill-color);\n",
              "    animation:\n",
              "      spin 1s steps(1) infinite;\n",
              "  }\n",
              "\n",
              "  @keyframes spin {\n",
              "    0% {\n",
              "      border-color: transparent;\n",
              "      border-bottom-color: var(--fill-color);\n",
              "      border-left-color: var(--fill-color);\n",
              "    }\n",
              "    20% {\n",
              "      border-color: transparent;\n",
              "      border-left-color: var(--fill-color);\n",
              "      border-top-color: var(--fill-color);\n",
              "    }\n",
              "    30% {\n",
              "      border-color: transparent;\n",
              "      border-left-color: var(--fill-color);\n",
              "      border-top-color: var(--fill-color);\n",
              "      border-right-color: var(--fill-color);\n",
              "    }\n",
              "    40% {\n",
              "      border-color: transparent;\n",
              "      border-right-color: var(--fill-color);\n",
              "      border-top-color: var(--fill-color);\n",
              "    }\n",
              "    60% {\n",
              "      border-color: transparent;\n",
              "      border-right-color: var(--fill-color);\n",
              "    }\n",
              "    80% {\n",
              "      border-color: transparent;\n",
              "      border-right-color: var(--fill-color);\n",
              "      border-bottom-color: var(--fill-color);\n",
              "    }\n",
              "    90% {\n",
              "      border-color: transparent;\n",
              "      border-bottom-color: var(--fill-color);\n",
              "    }\n",
              "  }\n",
              "</style>\n",
              "\n",
              "      <script>\n",
              "        async function quickchart(key) {\n",
              "          const quickchartButtonEl =\n",
              "            document.querySelector('#' + key + ' button');\n",
              "          quickchartButtonEl.disabled = true;  // To prevent multiple clicks.\n",
              "          quickchartButtonEl.classList.add('colab-df-spinner');\n",
              "          try {\n",
              "            const charts = await google.colab.kernel.invokeFunction(\n",
              "                'suggestCharts', [key], {});\n",
              "          } catch (error) {\n",
              "            console.error('Error during call to suggestCharts:', error);\n",
              "          }\n",
              "          quickchartButtonEl.classList.remove('colab-df-spinner');\n",
              "          quickchartButtonEl.classList.add('colab-df-quickchart-complete');\n",
              "        }\n",
              "        (() => {\n",
              "          let quickchartButtonEl =\n",
              "            document.querySelector('#df-9a47d42a-f381-4986-a53e-53b3dc1590b2 button');\n",
              "          quickchartButtonEl.style.display =\n",
              "            google.colab.kernel.accessAllowed ? 'block' : 'none';\n",
              "        })();\n",
              "      </script>\n",
              "    </div>\n",
              "\n",
              "    </div>\n",
              "  </div>\n"
            ],
            "application/vnd.google.colaboratory.intrinsic+json": {
              "type": "dataframe",
              "variable_name": "df",
              "summary": "{\n  \"name\": \"df\",\n  \"rows\": 1302,\n  \"fields\": [\n    {\n      \"column\": \"id\",\n      \"properties\": {\n        \"dtype\": \"number\",\n        \"std\": 3949,\n        \"min\": 1,\n        \"max\": 10277,\n        \"num_unique_values\": 1302,\n        \"samples\": [\n          479,\n          725,\n          313\n        ],\n        \"semantic_type\": \"\",\n        \"description\": \"\"\n      }\n    },\n    {\n      \"column\": \"name\",\n      \"properties\": {\n        \"dtype\": \"string\",\n        \"num_unique_values\": 1302,\n        \"samples\": [\n          \"rotom\",\n          \"litten\",\n          \"volbeat\"\n        ],\n        \"semantic_type\": \"\",\n        \"description\": \"\"\n      }\n    },\n    {\n      \"column\": \"base_experience\",\n      \"properties\": {\n        \"dtype\": \"number\",\n        \"std\": 82,\n        \"min\": 36,\n        \"max\": 608,\n        \"num_unique_values\": 201,\n        \"samples\": [\n          151,\n          52,\n          196\n        ],\n        \"semantic_type\": \"\",\n        \"description\": \"\"\n      }\n    },\n    {\n      \"column\": \"height\",\n      \"properties\": {\n        \"dtype\": \"number\",\n        \"std\": 54,\n        \"min\": 1,\n        \"max\": 1000,\n        \"num_unique_values\": 85,\n        \"samples\": [\n          260,\n          7,\n          330\n        ],\n        \"semantic_type\": \"\",\n        \"description\": \"\"\n      }\n    },\n    {\n      \"column\": \"weight\",\n      \"properties\": {\n        \"dtype\": \"number\",\n        \"std\": 1972,\n        \"min\": 0,\n        \"max\": 10000,\n        \"num_unique_values\": 533,\n        \"samples\": [\n          90,\n          552,\n          526\n        ],\n        \"semantic_type\": \"\",\n        \"description\": \"\"\n      }\n    },\n    {\n      \"column\": \"types\",\n      \"properties\": {\n        \"dtype\": \"category\",\n        \"num_unique_values\": 221,\n        \"samples\": [\n          \"poison, dragon\",\n          \"poison, fire\",\n          \"dragon, ground\"\n        ],\n        \"semantic_type\": \"\",\n        \"description\": \"\"\n      }\n    },\n    {\n      \"column\": \"abilities\",\n      \"properties\": {\n        \"dtype\": \"string\",\n        \"num_unique_values\": 707,\n        \"samples\": [\n          \"iron-fist\",\n          \"flash-fire, guts\",\n          \"limber, imposter\"\n        ],\n        \"semantic_type\": \"\",\n        \"description\": \"\"\n      }\n    },\n    {\n      \"column\": \"moves\",\n      \"properties\": {\n        \"dtype\": \"string\",\n        \"num_unique_values\": 812,\n        \"samples\": [\n          \"swords-dance, cut, body-slam, poison-sting, pin-missile\",\n          \"psybeam, hyper-beam, mega-drain, psychic, night-shade\",\n          \"cut, headbutt, body-slam, take-down, thrash\"\n        ],\n        \"semantic_type\": \"\",\n        \"description\": \"\"\n      }\n    },\n    {\n      \"column\": \"stats\",\n      \"properties\": {\n        \"dtype\": \"string\",\n        \"num_unique_values\": 1142,\n        \"samples\": [\n          \"hp=85, attack=76, defense=64, special-attack=45, special-defense=55, speed=90\",\n          \"hp=50, attack=75, defense=90, special-attack=10, special-defense=35, speed=40\",\n          \"hp=144, attack=120, defense=60, special-attack=40, special-defense=60, speed=50\"\n        ],\n        \"semantic_type\": \"\",\n        \"description\": \"\"\n      }\n    }\n  ]\n}"
            }
          },
          "metadata": {},
          "execution_count": 11
        }
      ]
    },
    {
      "cell_type": "code",
      "source": [
        "print(df.describe(include=['object', 'category']))\n",
        "print(df.isnull().sum())"
      ],
      "metadata": {
        "trusted": true,
        "execution": {
          "iopub.status.busy": "2025-06-21T13:53:15.393951Z",
          "iopub.execute_input": "2025-06-21T13:53:15.39432Z",
          "iopub.status.idle": "2025-06-21T13:53:15.422085Z",
          "shell.execute_reply.started": "2025-06-21T13:53:15.394293Z",
          "shell.execute_reply": "2025-06-21T13:53:15.421111Z"
        },
        "id": "TpUEN40fzUnR",
        "outputId": "1b3bb420-a189-4c6b-d185-1e40a9f47997",
        "colab": {
          "base_uri": "https://localhost:8080/"
        }
      },
      "outputs": [
        {
          "output_type": "stream",
          "name": "stdout",
          "text": [
            "                     name   types abilities  \\\n",
            "count                1302    1302      1302   \n",
            "unique               1302     221       707   \n",
            "top     terapagos-stellar  normal  levitate   \n",
            "freq                    1      86        36   \n",
            "\n",
            "                                                    moves  \\\n",
            "count                                                1268   \n",
            "unique                                                812   \n",
            "top     headbutt, tackle, body-slam, take-down, double...   \n",
            "freq                                                   21   \n",
            "\n",
            "                                                    stats  \n",
            "count                                                1302  \n",
            "unique                                               1142  \n",
            "top     hp=35, attack=55, defense=40, special-attack=5...  \n",
            "freq                                                   16  \n",
            "id                  0\n",
            "name                0\n",
            "base_experience     0\n",
            "height              0\n",
            "weight              0\n",
            "types               0\n",
            "abilities           0\n",
            "moves              34\n",
            "stats               0\n",
            "dtype: int64\n"
          ]
        }
      ],
      "execution_count": 13
    },
    {
      "cell_type": "code",
      "source": [
        "# 'Moves' column: Removed as it is not very relevant.\n",
        "df_processed = df.drop('moves', axis='columns', inplace=False)\n",
        "print(df_processed.columns)"
      ],
      "metadata": {
        "trusted": true,
        "execution": {
          "iopub.status.busy": "2025-06-21T13:53:15.423777Z",
          "iopub.execute_input": "2025-06-21T13:53:15.424121Z",
          "iopub.status.idle": "2025-06-21T13:53:15.451026Z",
          "shell.execute_reply.started": "2025-06-21T13:53:15.424087Z",
          "shell.execute_reply": "2025-06-21T13:53:15.449871Z"
        },
        "id": "JFQY9AdNzUnR",
        "outputId": "62d61b4c-04ad-477b-f573-a1e44a2f55e7",
        "colab": {
          "base_uri": "https://localhost:8080/"
        }
      },
      "outputs": [
        {
          "output_type": "stream",
          "name": "stdout",
          "text": [
            "Index(['id', 'name', 'base_experience', 'height', 'weight', 'types',\n",
            "       'abilities', 'stats'],\n",
            "      dtype='object')\n"
          ]
        }
      ],
      "execution_count": 14
    },
    {
      "cell_type": "code",
      "source": [
        "# Separating the stats column into its attributes.\n",
        "def extract_stats(row):\n",
        "    stats = row.stats.split(\", \")\n",
        "    for stat in stats:\n",
        "        s, num = stat.split(\"=\")\n",
        "        row[s] = int(num)\n",
        "    return row\n",
        "\n",
        "df_processed = df_processed.apply(extract_stats, axis=1)\n",
        "df_processed.drop('stats', axis='columns', inplace=True)\n",
        "print(df_processed.columns)"
      ],
      "metadata": {
        "trusted": true,
        "execution": {
          "iopub.status.busy": "2025-06-21T13:53:15.452442Z",
          "iopub.execute_input": "2025-06-21T13:53:15.452816Z",
          "iopub.status.idle": "2025-06-21T13:53:18.975996Z",
          "shell.execute_reply.started": "2025-06-21T13:53:15.452785Z",
          "shell.execute_reply": "2025-06-21T13:53:18.974957Z"
        },
        "id": "91xd3bgizUnS",
        "outputId": "bf1c8d98-3874-4467-a2e2-af6f026320f3",
        "colab": {
          "base_uri": "https://localhost:8080/"
        }
      },
      "outputs": [
        {
          "output_type": "stream",
          "name": "stdout",
          "text": [
            "Index(['id', 'name', 'base_experience', 'height', 'weight', 'types',\n",
            "       'abilities', 'hp', 'attack', 'defense', 'special-attack',\n",
            "       'special-defense', 'speed'],\n",
            "      dtype='object')\n"
          ]
        }
      ],
      "execution_count": 15
    },
    {
      "cell_type": "code",
      "source": [
        "vec_type = df_processed['types'].str.split(',', expand=True)\n",
        "all_types = vec_type.stack().reset_index(level=1, drop=True).rename('type')\n",
        "print(all_types)\n",
        "all_types.value_counts().plot(kind='bar', title='Tipos de Pokémon')"
      ],
      "metadata": {
        "trusted": true,
        "execution": {
          "iopub.status.busy": "2025-06-21T13:53:18.977138Z",
          "iopub.execute_input": "2025-06-21T13:53:18.977484Z",
          "iopub.status.idle": "2025-06-21T13:53:19.616906Z",
          "shell.execute_reply.started": "2025-06-21T13:53:18.977453Z",
          "shell.execute_reply": "2025-06-21T13:53:19.61566Z"
        },
        "id": "6dTed85jzUnS",
        "outputId": "449e886a-dc48-46c5-dd4e-1a5719d0bc67",
        "colab": {
          "base_uri": "https://localhost:8080/",
          "height": 934
        }
      },
      "outputs": [
        {
          "output_type": "stream",
          "name": "stdout",
          "text": [
            "0         grass\n",
            "0        poison\n",
            "1         grass\n",
            "1        poison\n",
            "2         grass\n",
            "         ...   \n",
            "1298       fire\n",
            "1299      grass\n",
            "1299       rock\n",
            "1300     normal\n",
            "1301     normal\n",
            "Name: type, Length: 2028, dtype: object\n"
          ]
        },
        {
          "output_type": "execute_result",
          "data": {
            "text/plain": [
              "<Axes: title={'center': 'Tipos de Pokémon'}, xlabel='type'>"
            ]
          },
          "metadata": {},
          "execution_count": 16
        },
        {
          "output_type": "display_data",
          "data": {
            "text/plain": [
              "<Figure size 1200x700 with 1 Axes>"
            ],
            "image/png": "[encoded data removed]"
          },
          "metadata": {}
        }
      ],
      "execution_count": 16
    }
  ]
}